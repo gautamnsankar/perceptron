{
  "nbformat": 4,
  "nbformat_minor": 0,
  "metadata": {
    "colab": {
      "provenance": []
    },
    "kernelspec": {
      "name": "python3",
      "display_name": "Python 3"
    },
    "language_info": {
      "name": "python"
    }
  },
  "cells": [
    {
      "cell_type": "code",
      "execution_count": null,
      "metadata": {
        "id": "L2ed536fiwm9"
      },
      "outputs": [],
      "source": [
        "import numpy as np\n",
        "\n",
        "from sklearn.model_selection import train_test_split\n",
        "import matplotlib.pyplot as plt\n",
        "from sklearn import datasets"
      ]
    },
    {
      "cell_type": "code",
      "source": [
        "class Perceptron:\n",
        "  def __init__(self, eta = 0.01, iterations = 100):\n",
        "    self.eta = eta\n",
        "    self.iterations = iterations\n",
        "\n",
        "  def fit(self, x, y):\n",
        "    self.w = np.random.normal(size = x.shape[1], scale = 0.01)\n",
        "    self.b = 0.0\n",
        "\n",
        "    self.errors = []\n",
        "\n",
        "    for i in range(self.iterations):\n",
        "      error = 0\n",
        "\n",
        "      for xi, target in zip(x, y):\n",
        "        zi = np.dot(xi, self.w) + self.b\n",
        "\n",
        "        if zi > 0:\n",
        "          y_predi = 1\n",
        "        else:\n",
        "          y_predi = 0\n",
        "\n",
        "        self.w += (target - y_predi) * self.eta * xi\n",
        "        self.b += (target - y_predi) * self.eta\n",
        "\n",
        "        error += int(((target - y_predi) != 0))\n",
        "\n",
        "      self.errors.append(error)\n",
        "    return self\n",
        "\n",
        "  def predict(self, x_test, y_test):\n",
        "    self.y_preds = []\n",
        "\n",
        "    for xi, target in zip(x_test, y_test):\n",
        "        zi = np.dot(xi, self.w) + self.b\n",
        "\n",
        "        if zi > 0:\n",
        "          y_predi = 1\n",
        "        else:\n",
        "          y_predi = 0\n",
        "\n",
        "        self.y_preds.append(y_predi)\n",
        "    return self.y_preds\n",
        "\n",
        "\n"
      ],
      "metadata": {
        "id": "L1x-KV8gjBxH"
      },
      "execution_count": null,
      "outputs": []
    },
    {
      "cell_type": "code",
      "source": [
        "iris = datasets.load_iris()\n",
        "\n",
        "x = iris.data[0:100]\n",
        "y = iris.target[0:100]\n",
        "\n",
        "x_train, x_test, y_train, y_test = train_test_split(x, y, test_size = 0.1, shuffle = True)"
      ],
      "metadata": {
        "id": "mafZg5attsGU"
      },
      "execution_count": null,
      "outputs": []
    },
    {
      "cell_type": "code",
      "source": [
        "perceptron1 = Perceptron(0.001, 10)\n",
        "fit = perceptron1.fit(x_train, y_train)\n",
        "\n",
        "print(perceptron1.errors)"
      ],
      "metadata": {
        "id": "j8pardMJjxRP",
        "colab": {
          "base_uri": "https://localhost:8080/"
        },
        "outputId": "57ab834e-92cd-4d4a-b14b-84a7f6bf4ea1"
      },
      "execution_count": null,
      "outputs": [
        {
          "output_type": "stream",
          "name": "stdout",
          "text": [
            "[16, 2, 0, 0, 0, 0, 0, 0, 0, 0]\n"
          ]
        }
      ]
    },
    {
      "cell_type": "code",
      "source": [
        "y_pred = perceptron1.predict(x_test, y_test)\n",
        "sum = 0\n",
        "\n",
        "for i in range(len(y_pred)):\n",
        "  if y_pred[i] == y_test[i]:\n",
        "    sum += 1\n",
        "\n",
        "print((sum / len(y_pred)))"
      ],
      "metadata": {
        "colab": {
          "base_uri": "https://localhost:8080/"
        },
        "id": "KIzfnYusu-s9",
        "outputId": "0a8373a7-2025-441d-cc3d-a0c05a1834ca"
      },
      "execution_count": null,
      "outputs": [
        {
          "output_type": "stream",
          "name": "stdout",
          "text": [
            "1.0\n"
          ]
        }
      ]
    },
    {
      "cell_type": "code",
      "source": [
        "plt.plot(perceptron1.errors, marker = \"o\")"
      ],
      "metadata": {
        "colab": {
          "base_uri": "https://localhost:8080/",
          "height": 447
        },
        "id": "6NjlgE29jRNe",
        "outputId": "5346df1d-cea9-48b6-dfcf-817bb558f807"
      },
      "execution_count": null,
      "outputs": [
        {
          "output_type": "execute_result",
          "data": {
            "text/plain": [
              "[<matplotlib.lines.Line2D at 0x7fe043578a00>]"
            ]
          },
          "metadata": {},
          "execution_count": 16
        },
        {
          "output_type": "display_data",
          "data": {
            "text/plain": [
              "<Figure size 640x480 with 1 Axes>"
            ],
            "image/png": "[encoded data removed]"
          },
          "metadata": {}
        }
      ]
    }
  ]
}